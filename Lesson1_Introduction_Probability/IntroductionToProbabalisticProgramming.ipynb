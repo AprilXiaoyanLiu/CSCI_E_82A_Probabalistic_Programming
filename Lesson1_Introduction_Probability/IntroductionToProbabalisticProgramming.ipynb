{
 "cells": [
  {
   "cell_type": "markdown",
   "metadata": {},
   "source": [
    "# Introduction to Probabilistic Programming\n",
    "\n",
    "\n",
    "\n",
    "## CSCI E-83\n",
    "## Stephen Elston\n",
    "\n",
    "This course will give you a background in probabilistic programming. "
   ]
  },
  {
   "cell_type": "markdown",
   "metadata": {},
   "source": [
    "## About your teaching  staff\n",
    "\n",
    "**Steve Elston:** \n",
    "\n",
    "**Teaching Fellow**"
   ]
  },
  {
   "cell_type": "markdown",
   "metadata": {},
   "source": [
    "## Agent model of machine intelligence\n",
    "\n",
    "A general model for **machine intelligence** or **artificial intelligence** involves an **agent** interacting with the **environment**. The agent uses **sensors** to acquire information on the environment and based on the **state** of the environment takes **actions** to change the state of the environment. A schematic representation of this simple model is shown in Figure 1 below. \n",
    "\n",
    "<img src=\"img/AgentModel.JPG\" alt=\"Drawing\" style=\"width:500px; height:300px\"/>\n",
    "<center> **Figure 1. General Agent Model** </center>\n",
    "\n",
    "At the minimum, the agent must have certain capabilities:\n",
    "\n",
    "1. A **Representation** of the model used by the agent. A good representation is often the key to good machine intelligence. Graphical models provide an effective representation for many complex problems. Alternatively, so called **deep representations** can produce powerful results in many situations. \n",
    "2. **Inference or reasoning** is process of computing actions or decisions based on queries on the model. \n",
    "3. The agent performs **learning** using data or **evidence** to update the model. In graphical probabilistic models learning and inference are actually the same process.   \n",
    "\n",
    "A schematic of this simple agent model \n",
    "\n",
    "<img src=\"img/AIModel.JPG\" alt=\"Drawing\" style=\"width:500px; height:250px\"/>\n",
    "<center> **DAG for the student score and letter distribution** </center>"
   ]
  },
  {
   "cell_type": "markdown",
   "metadata": {},
   "source": [
    "## Why probabilistic programming?\n",
    "\n",
    "\n",
    "Machine intelligence must operate in a world with. \n",
    "\n",
    "1. Data is often noisy or otherwise uncertain. Machine learning models must be resistant to unexpected and erroneous sensor inputs. \n",
    "2. Unexpected situations occur on a regular basis. Often these 'unexpected situations' are simply cases just outside the set of training cases. Many machine learning models produce erroneous or unexpected results when faced with unexpected inputs; a situation known as **brittleness**. \n",
    "3. Many real-world problems have a high degree of complexity which cannot be feasibly modeled. \n",
    "4. Models of many real-world systems include **unobservable** variables. There is no feasible way to obtain direct evidence on these variables. \n",
    "5. Optimizing complex processes requires a sequence of decsions. These decisions often must be made with uncertain and incomplete information. \n",
    "\n",
    "Probabilistic models provides a framework for a wide range of difficult problems including:\n",
    "\n",
    "1. Dealing gracefully with unexpected or erroneous inputs. Probabilistic models can exhibit robustness to unexpected inputs as each observation or piece of evidence is probability weighted. \n",
    "2. In many cases, probabilistic models can effectively represent highly complex problems. Conceptually, a probabilistic model 'smooths' over a certain amount of complexity allowing a relatively simple representation of a complex system. \n",
    "3. Inferences can be made on **unobservable** variables with probabilistic models. The probabilities of possible values of the unobservable variables can be estimated from the model.\n",
    "4. Prior information, such as input on **beliefs** from domain experts, can be used to suplement data or **evidence**. This allows models to work in data poor situations, or for modeling rare events. \n",
    "5. The combination of **probabilistic models** and **utility theory** provides a framework for complex decisions under uncertainty. "
   ]
  },
  {
   "cell_type": "markdown",
   "metadata": {},
   "source": [
    "## Decision theory and probability\n",
    "\n",
    "Many AI problem require a decision to be made. In this case the agent makes an inference based on a probabilistic model. Based on this inference a **decision** to take an action is made by finding the maximum **utility** of the alternatives. The agent's decision process is then a combination of probability theory and utility theory. \n",
    "\n",
    "In particular, the combination of probabilistic Markov process and a utility function leads to a **Markov decision process** or **MDP**. The goal of these problems is to maximize the utility of a series of **decisions** in a system with a probabilistic model. \n",
    "\n",
    "In many practical situations multiple decisions must be made in a time sequence. These decisions are made using both uncertain and incomplete information. Optimizing such decisions requires the combination of probabalisitc models and untility theory found in MDPs.  \n",
    "\n",
    "The optimal MDP solution can be found by a number of algorithms. **Dynamic programming** algorithms are the most widely used methods. However, dynamic programming is limited to cases where a model for the system being acted on can be modeled completely. An alernative that has emmerged in recent years is **reinforcement learning** which can work with **partially observable** processes.     "
   ]
  },
  {
   "cell_type": "markdown",
   "metadata": {},
   "source": [
    "#### Copyright 2018, Stephen F Elston. All rights reserved."
   ]
  },
  {
   "cell_type": "code",
   "execution_count": null,
   "metadata": {},
   "outputs": [],
   "source": []
  }
 ],
 "metadata": {
  "kernelspec": {
   "display_name": "Python 3",
   "language": "python",
   "name": "python3"
  },
  "language_info": {
   "codemirror_mode": {
    "name": "ipython",
    "version": 3
   },
   "file_extension": ".py",
   "mimetype": "text/x-python",
   "name": "python",
   "nbconvert_exporter": "python",
   "pygments_lexer": "ipython3",
   "version": "3.6.4"
  }
 },
 "nbformat": 4,
 "nbformat_minor": 2
}
