{
 "cells": [
  {
   "cell_type": "markdown",
   "metadata": {},
   "source": [
    "# Introduction to Probabilistic Programming\n",
    "\n",
    "\n",
    "\n",
    "## CSCI E-83\n",
    "## Stephen Elston\n",
    "\n",
    "This course will give you a background in probabilistic programming. "
   ]
  },
  {
   "cell_type": "markdown",
   "metadata": {},
   "source": [
    "## About your teaching  staff\n",
    "\n",
    "**Steve Elston:** \n",
    "\n",
    "**Teaching Fellow**"
   ]
  },
  {
   "cell_type": "markdown",
   "metadata": {},
   "source": [
    "## Agent model of machine intelligence\n",
    "\n",
    "A general model for **machine intelligence** or **artificial intelligence** involves an **agent** interacting with the **environment**. The agent uses **sensors** to acquire information on the environment and based on the **state** of the environment takes **actions** to change the state of the environment. A schematic representation of this simple model is shown in Figure 1 below. \n",
    "\n",
    "<img src=\"img/AgentModel.JPG\" alt=\"Drawing\" style=\"width:500px; height:300px\"/>\n",
    "<center> **Figure 1. General Agent Model** </center>\n",
    "\n",
    "At the minimum, the agent must have certain capabilities:\n",
    "\n",
    "1. A **Representation** of the model used by the agent. A good representation is often the key to good machine intelligence. Graphical models provide an effective representation for many complex problems. Alternatively, so called **deep representations** can produce powerful results in many situations. \n",
    "2. **Inference or reasoning** is process of computing actions or decisions based on queries on the model. \n",
    "3. The agent performs **learning** using data or **evidence** to update the model. In graphical probabilistic models learning and inference are actually the same process.   \n",
    "\n",
    "A schematic of this simple agent model \n",
    "\n",
    "<img src=\"img/AIModel.JPG\" alt=\"Drawing\" style=\"width:500px; height:250px\"/>\n",
    "<center> **DAG for the student score and letter distribution** </center>"
   ]
  },
  {
   "cell_type": "markdown",
   "metadata": {},
   "source": [
    "## Why probabilistic programming?\n",
    "\n",
    "\n",
    "Machine intelligence must operate in a world with. \n",
    "\n",
    "1. Data is often noisy or otherwise uncertain. Machine learning models must be resistant to unexpected and erroneous sensor inputs. \n",
    "2. Unexpected situations occur on a regular basis. Often these 'unexpected situations' are simply cases just outside the set of training cases. Many machine learning models produce erroneous or unexpected results when faced with unexpected inputs; a situation known as **brittleness**. \n",
    "3. Many real-world problems have a high degree of complexity which cannot be feasibly modeled. \n",
    "4. Models of many real-world systems include **unobservable** variables. There is no feasible way to obtain direct evidence on these variables. \n",
    "\n",
    "Probabilistic models provides a framework for a wide range of difficult problems including:\n",
    "\n",
    "1. Dealing gracefully with unexpected or erroneous inputs. Probabilistic models can exhibit robustness to unexpected inputs as each observation or piece of evidence is probability weighted. \n",
    "2. \n",
    "\n"
   ]
  },
  {
   "cell_type": "code",
   "execution_count": null,
   "metadata": {},
   "outputs": [],
   "source": []
  }
 ],
 "metadata": {
  "kernelspec": {
   "display_name": "Python 3",
   "language": "python",
   "name": "python3"
  },
  "language_info": {
   "codemirror_mode": {
    "name": "ipython",
    "version": 3
   },
   "file_extension": ".py",
   "mimetype": "text/x-python",
   "name": "python",
   "nbconvert_exporter": "python",
   "pygments_lexer": "ipython3",
   "version": "3.6.4"
  }
 },
 "nbformat": 4,
 "nbformat_minor": 2
}
