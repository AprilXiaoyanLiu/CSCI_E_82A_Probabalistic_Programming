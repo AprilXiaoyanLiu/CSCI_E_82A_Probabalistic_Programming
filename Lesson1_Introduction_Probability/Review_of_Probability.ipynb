{
 "cells": [
  {
   "cell_type": "markdown",
   "metadata": {},
   "source": [
    "# Review of Probability\n",
    "\n",
    "## CSCI E-83\n",
    "## Stephen Elston\n",
    "\n",
    "Probability theory is at the core of probabalistic programming. "
   ]
  },
  {
   "cell_type": "markdown",
   "metadata": {},
   "source": [
    "## Axioms of probability\n",
    "\n",
    "All probability distributions must have a certain properties, which we refer to as the **axioms of probability**. These are:\n",
    "\n",
    "- Probability for any set, A, is bounded between 0 and 1:  \n",
    "\n",
    "$$0 \\le P(A) \\le 1 $$\n",
    "- Probability of the Sample Space = 1:  \n",
    "\n",
    "$$P(S) = \\sum_{All\\ i}P(a_i) = 1 $$\n",
    "\n",
    "- The probability of finite independent unions is the sum of their probabilities:\n",
    "\n",
    "$$P(A \\cup B) = P(A) + P(B)\\\\ if\\ and\\ only\\ if\\\\ A \\cap B = 0 $$"
   ]
  },
  {
   "cell_type": "markdown",
   "metadata": {},
   "source": [
    "## Conditional distributions and Bayes' Theorem\n",
    "\n"
   ]
  },
  {
   "cell_type": "markdown",
   "metadata": {},
   "source": [
    "## Marginal distributions\n",
    "\n",
    "We have seen how conditional distributions "
   ]
  },
  {
   "cell_type": "markdown",
   "metadata": {},
   "source": [
    "## Independence\n"
   ]
  },
  {
   "cell_type": "code",
   "execution_count": null,
   "metadata": {},
   "outputs": [],
   "source": []
  }
 ],
 "metadata": {
  "kernelspec": {
   "display_name": "Python 3",
   "language": "python",
   "name": "python3"
  },
  "language_info": {
   "codemirror_mode": {
    "name": "ipython",
    "version": 3
   },
   "file_extension": ".py",
   "mimetype": "text/x-python",
   "name": "python",
   "nbconvert_exporter": "python",
   "pygments_lexer": "ipython3",
   "version": "3.6.4"
  }
 },
 "nbformat": 4,
 "nbformat_minor": 2
}
