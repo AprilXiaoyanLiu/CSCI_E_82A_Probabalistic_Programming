{
 "cells": [
  {
   "cell_type": "markdown",
   "metadata": {},
   "source": [
    "# Review of Probability\n",
    "\n",
    "## CSCI E-83\n",
    "## Stephen Elston\n",
    "\n",
    "Probability theory is at the core of probabalistic programming. Therefore, it is important to have a good understanding of the principles of probability theory. This lesson introduces you to the basic concepts you will need to know to tackle probabalistic programming. Specifically you will learn:\n",
    "\n",
    "1. The four axioms of probability.\n",
    "2. How to work with conditional probability and Bayes' rule. \n",
    "3. Factoring probability distributions using the chain rule of probability. \n",
    "3. Computing marginal distributions for inference. \n",
    "4. Applying the concepts of dependence and independence to factor distributions. \n",
    "\n",
    "As a first step run the code below to import the required packages. "
   ]
  },
  {
   "cell_type": "code",
   "execution_count": 2,
   "metadata": {},
   "outputs": [],
   "source": [
    "import pandas as pd\n",
    "import numpy as np"
   ]
  },
  {
   "cell_type": "markdown",
   "metadata": {},
   "source": [
    "## Axioms of probability\n",
    "\n",
    "All probability distributions must have a certain properties, which we refer to as the **axioms of probability**. These are:\n",
    "\n",
    "- Probability for any set, A, is bounded between 0 and 1:  \n",
    "\n",
    "$$0 \\le P(A) \\le 1 $$\n",
    "- Probability of the Sample Space = 1:  \n",
    "\n",
    "$$P(S) = \\sum_{All\\ i}P(a_i) = 1 $$\n",
    "\n",
    "- The probability of finite independent unions is the sum of their probabilities:\n",
    "\n",
    "$$P(A \\cup B) = P(A) + P(B)\\\\ \n",
    "if\\ and\\ only\\ if\\\\ \n",
    "A \\cap B = 0 $$"
   ]
  },
  {
   "cell_type": "markdown",
   "metadata": {},
   "source": [
    "To make these ideas concrete, let's try an example. The code in the cell below creates a data frame with the the probabilities of hair and eye color combinations. "
   ]
  },
  {
   "cell_type": "code",
   "execution_count": 3,
   "metadata": {},
   "outputs": [
    {
     "data": {
      "text/html": [
       "<div>\n",
       "<style scoped>\n",
       "    .dataframe tbody tr th:only-of-type {\n",
       "        vertical-align: middle;\n",
       "    }\n",
       "\n",
       "    .dataframe tbody tr th {\n",
       "        vertical-align: top;\n",
       "    }\n",
       "\n",
       "    .dataframe thead th {\n",
       "        text-align: right;\n",
       "    }\n",
       "</style>\n",
       "<table border=\"1\" class=\"dataframe\">\n",
       "  <thead>\n",
       "    <tr style=\"text-align: right;\">\n",
       "      <th></th>\n",
       "      <th>Black</th>\n",
       "      <th>Blond</th>\n",
       "      <th>Brunette</th>\n",
       "      <th>Red</th>\n",
       "    </tr>\n",
       "  </thead>\n",
       "  <tbody>\n",
       "    <tr>\n",
       "      <th>Brown</th>\n",
       "      <td>0.11</td>\n",
       "      <td>0.01</td>\n",
       "      <td>0.21</td>\n",
       "      <td>0.04</td>\n",
       "    </tr>\n",
       "    <tr>\n",
       "      <th>Blue</th>\n",
       "      <td>0.03</td>\n",
       "      <td>0.16</td>\n",
       "      <td>0.14</td>\n",
       "      <td>0.03</td>\n",
       "    </tr>\n",
       "    <tr>\n",
       "      <th>Hazel</th>\n",
       "      <td>0.03</td>\n",
       "      <td>0.02</td>\n",
       "      <td>0.09</td>\n",
       "      <td>0.02</td>\n",
       "    </tr>\n",
       "    <tr>\n",
       "      <th>Green</th>\n",
       "      <td>0.01</td>\n",
       "      <td>0.03</td>\n",
       "      <td>0.05</td>\n",
       "      <td>0.02</td>\n",
       "    </tr>\n",
       "  </tbody>\n",
       "</table>\n",
       "</div>"
      ],
      "text/plain": [
       "       Black  Blond  Brunette   Red\n",
       "Brown   0.11   0.01      0.21  0.04\n",
       "Blue    0.03   0.16      0.14  0.03\n",
       "Hazel   0.03   0.02      0.09  0.02\n",
       "Green   0.01   0.03      0.05  0.02"
      ]
     },
     "execution_count": 3,
     "metadata": {},
     "output_type": "execute_result"
    }
   ],
   "source": [
    "eyeHair = pd.DataFrame({'Black':[0.11, 0.03, 0.03, 0.01], \n",
    "                     'Brunette':[0.21, 0.14, 0.09, 0.05],\n",
    "                     'Red':[0.04, 0.03, 0.02, 0.02],\n",
    "                     'Blond':[0.01, 0.16, 0.02, 0.03]}, \n",
    "                      index = ['Brown', 'Blue', 'Hazel', 'Green'])\n",
    "eyeHair"
   ]
  },
  {
   "cell_type": "markdown",
   "metadata": {},
   "source": [
    "This table contains a bivariate distribution of $p(hair,eye)$. For example, the probability of a subject in this sample having black hair and brown eyes: $p(black,brown) = 0.11$ .\n",
    "\n",
    "You can see that all of these probabilities are in the range $0 \\le p(hair,eye) \\le 1.0$, and therefore satisfy one of the axioms. \n",
    "\n",
    "We can test if these probabilities add up to 1.0. "
   ]
  },
  {
   "cell_type": "code",
   "execution_count": 4,
   "metadata": {},
   "outputs": [
    {
     "data": {
      "text/plain": [
       "0.9999999999999999"
      ]
     },
     "execution_count": 4,
     "metadata": {},
     "output_type": "execute_result"
    }
   ],
   "source": [
    "np.array(eyeHair).sum()"
   ]
  },
  {
   "cell_type": "markdown",
   "metadata": {},
   "source": [
    "To within the rounding error, this probabilities add to 1.0 and satisfy another axiom. \n",
    "\n",
    "The question of independence or dependence is a bit more complicated, and will be addressed later. "
   ]
  },
  {
   "cell_type": "markdown",
   "metadata": {},
   "source": [
    "## Conditional distributions and Bayes' Theorem\n",
    "\n",
    "A probability distribution of one random variable can be conditionally dependent on another random variable. **Bayes' theorem**, also known as **Bayes' rule**, gives us a powerful tool to think about and analyze conditional probabilities. We can \n",
    "\n",
    "$$P(A \\cup B) = P(A|B)P(B)\\\\\n",
    "P(B \\cup A) = P(B|A)P(A)$$\n",
    "\n",
    "Now:\n",
    "\n",
    "$$P(A \\cup B) = P(B \\cup A)$$\n",
    "\n",
    "This leads to Bayes' theorem as follows:\n",
    "\n",
    "$$P(A|B)P(B) = P(B|A)P(A)\\\\\n",
    "P(A|B) = \\frac{P(B|A)P(A)}{P(B)}$$\n",
    "\n",
    "Which is Bayes' theorem. \n",
    "\n",
    "We can compute $p(eye | hair = Black)$. First we can find the probabilities joint probabilities of $p(eye, hair = Black)$:"
   ]
  },
  {
   "cell_type": "code",
   "execution_count": 5,
   "metadata": {
    "scrolled": true
   },
   "outputs": [
    {
     "data": {
      "text/plain": [
       "Brown    0.11\n",
       "Blue     0.03\n",
       "Hazel    0.03\n",
       "Green    0.01\n",
       "Name: Black, dtype: float64"
      ]
     },
     "execution_count": 5,
     "metadata": {},
     "output_type": "execute_result"
    }
   ],
   "source": [
    "eyeHair_black = eyeHair.loc[:,'Black']\n",
    "eyeHair_black"
   ]
  },
  {
   "cell_type": "markdown",
   "metadata": {},
   "source": [
    "These numbers cannot be a probability distribution as they do not add up to 1.0. However, normalizing is easy in this case:"
   ]
  },
  {
   "cell_type": "code",
   "execution_count": 6,
   "metadata": {},
   "outputs": [
    {
     "data": {
      "text/plain": [
       "Brown    0.611111\n",
       "Blue     0.166667\n",
       "Hazel    0.166667\n",
       "Green    0.055556\n",
       "Name: Black, dtype: float64"
      ]
     },
     "execution_count": 6,
     "metadata": {},
     "output_type": "execute_result"
    }
   ],
   "source": [
    "eyeHair_black = eyeHair_black/sum(eyeHair_black)\n",
    "eyeHair_black"
   ]
  },
  {
   "cell_type": "code",
   "execution_count": 8,
   "metadata": {},
   "outputs": [
    {
     "name": "stdout",
     "output_type": "stream",
     "text": [
      "For pople with Black eyes: \n",
      "Most common hair color = Brown\n",
      "with probability = 0.61\n"
     ]
    }
   ],
   "source": [
    "print('For pople with Black eyes: \\nMost common hair color = ' + eyeHair_black.idxmax() + \n",
    "      '\\nwith probability = %4.2f' % (eyeHair_black.max()))"
   ]
  },
  {
   "cell_type": "markdown",
   "metadata": {},
   "source": [
    "## Chain rule of probability\n",
    "\n",
    "Another way to work with distributions is by applying the **chain rule of probability**. This rule allows us to factor a joint distribution as follows:\n",
    "\n",
    "$$P(A_1, A_2, A_3, A_4 \\ldots, A_n) = P(A_1 | A_2, A_3, A_4, \\ldots, A_n)\\ P(A_2, A_3, A_4 \\ldots, A_n)$$\n",
    "\n",
    "We can continue this factorization until we reach an end point:\n",
    "\n",
    "$$P(A_1, A_2, A_3, A_4 \\ldots, A_n) = P(A_1 | A_2, A_3, A_4, \\ldots, A_n)\\ P(A_2 | A_3, A_4 \\ldots, A_n)\\ P(A_3| A_4 \\ldots, A_n) \\ldots p(A_n)$$\n",
    "\n",
    "Or in general terms, we can expand a joint distribution as the product of conditional distributions:\n",
    "\n",
    "$$P(\\bigcap_{k=1}^n A_k) = \\prod_{k=1}^n p(A_k \\big| \\bigcap_{j=1}^{n-1} A_j)$$\n",
    "\n",
    "> **Note:** The factorization is not unique. We can factor the variables in any order. For example, we can write:\n",
    "\n",
    "$$P(A_1, A_2, A_3, A_4 \\ldots, A_n) = P(A_n | A_{n-1}, A_{n-2}, A_{n-3}, \\ldots, A_1)\\ P(A_{n-1}| A_{n-2}, A_{n-3}, \\ldots, A_1)\\ P(A_{n-2}| A_{n-3}, \\ldots, A_1) \\ldots p(A_1)$$\n",
    "\n",
    "As an example of a factorization using the chain rule of probability, we can find the conditional distribution of eye color given hair color (or the reverse). Our table of data only gives us the joint distributions which we can factor as:\n",
    "\n",
    "$$P(eye,hair) = P(eye|hair)\\ P(hair) \\\\\n",
    "or,\\\\\n",
    "P(eye|hair) = \\frac{P(eye,hair)}{P(hair)}$$"
   ]
  },
  {
   "cell_type": "markdown",
   "metadata": {},
   "source": [
    "## Marginal distributions\n",
    "\n",
    "Inference for probabilistic models is typically performed by computing **marginal distributions**. A marginal distribution is the probability distribution of one or more variables summed or integrated over the other variables of a multivariate distribution. This process is often an essential step in performing **inference**. By inference, we mean returning the results of a query. \n",
    "\n",
    "For example, if we start with a joint distribution we can factor it using the chain rule of probabilities:\n",
    "\n",
    "$$p(A,B) = P(A|B)p(B)$$\n",
    "\n",
    "we can then compute the marginal distribution over $A$ by summing over $B$:\n",
    "\n",
    "$$P(A) = \\frac{1}{Z} \\sum_{B} P(A|B)p(B) \\\\\n",
    "where\\\\\n",
    "Z = partition\\ function$$\n",
    "\n",
    "The concept is simple. The the result of the summation is the distribution on the *margin* of the multivariate distribution. The **partition function** is a normalization used to create a proper marginal distribution.   \n",
    "\n",
    "In this case, $Z = p(B)$, so the marginal distribution is just:\n",
    "\n",
    "$$P(A) = \\frac{1}{P(B)} \\sum_{B} P(A|B)p(B) =  \\frac{P(B)}{P(B)}\\sum_{B} P(A|B) = \\sum_{B} P(A|B)$$\n",
    "\n",
    "Using our dataset of hair and eye color, it is easy to compute the marginal probabilities of eye color as follows:"
   ]
  },
  {
   "cell_type": "code",
   "execution_count": 9,
   "metadata": {},
   "outputs": [
    {
     "data": {
      "text/html": [
       "<div>\n",
       "<style scoped>\n",
       "    .dataframe tbody tr th:only-of-type {\n",
       "        vertical-align: middle;\n",
       "    }\n",
       "\n",
       "    .dataframe tbody tr th {\n",
       "        vertical-align: top;\n",
       "    }\n",
       "\n",
       "    .dataframe thead th {\n",
       "        text-align: right;\n",
       "    }\n",
       "</style>\n",
       "<table border=\"1\" class=\"dataframe\">\n",
       "  <thead>\n",
       "    <tr style=\"text-align: right;\">\n",
       "      <th></th>\n",
       "      <th>Black</th>\n",
       "      <th>Blond</th>\n",
       "      <th>Brunette</th>\n",
       "      <th>Red</th>\n",
       "      <th>MarginalEye</th>\n",
       "    </tr>\n",
       "  </thead>\n",
       "  <tbody>\n",
       "    <tr>\n",
       "      <th>Brown</th>\n",
       "      <td>0.11</td>\n",
       "      <td>0.01</td>\n",
       "      <td>0.21</td>\n",
       "      <td>0.04</td>\n",
       "      <td>0.37</td>\n",
       "    </tr>\n",
       "    <tr>\n",
       "      <th>Blue</th>\n",
       "      <td>0.03</td>\n",
       "      <td>0.16</td>\n",
       "      <td>0.14</td>\n",
       "      <td>0.03</td>\n",
       "      <td>0.36</td>\n",
       "    </tr>\n",
       "    <tr>\n",
       "      <th>Hazel</th>\n",
       "      <td>0.03</td>\n",
       "      <td>0.02</td>\n",
       "      <td>0.09</td>\n",
       "      <td>0.02</td>\n",
       "      <td>0.16</td>\n",
       "    </tr>\n",
       "    <tr>\n",
       "      <th>Green</th>\n",
       "      <td>0.01</td>\n",
       "      <td>0.03</td>\n",
       "      <td>0.05</td>\n",
       "      <td>0.02</td>\n",
       "      <td>0.11</td>\n",
       "    </tr>\n",
       "  </tbody>\n",
       "</table>\n",
       "</div>"
      ],
      "text/plain": [
       "       Black  Blond  Brunette   Red  MarginalEye\n",
       "Brown   0.11   0.01      0.21  0.04         0.37\n",
       "Blue    0.03   0.16      0.14  0.03         0.36\n",
       "Hazel   0.03   0.02      0.09  0.02         0.16\n",
       "Green   0.01   0.03      0.05  0.02         0.11"
      ]
     },
     "execution_count": 9,
     "metadata": {},
     "output_type": "execute_result"
    }
   ],
   "source": [
    "eyeHair['MarginalEye'] = eyeHair.sum(axis = 1)\n",
    "eyeHair"
   ]
  },
  {
   "cell_type": "markdown",
   "metadata": {},
   "source": [
    "We can also compute the marginal probability of hair color:"
   ]
  },
  {
   "cell_type": "code",
   "execution_count": 10,
   "metadata": {},
   "outputs": [
    {
     "data": {
      "text/html": [
       "<div>\n",
       "<style scoped>\n",
       "    .dataframe tbody tr th:only-of-type {\n",
       "        vertical-align: middle;\n",
       "    }\n",
       "\n",
       "    .dataframe tbody tr th {\n",
       "        vertical-align: top;\n",
       "    }\n",
       "\n",
       "    .dataframe thead th {\n",
       "        text-align: right;\n",
       "    }\n",
       "</style>\n",
       "<table border=\"1\" class=\"dataframe\">\n",
       "  <thead>\n",
       "    <tr style=\"text-align: right;\">\n",
       "      <th></th>\n",
       "      <th>Black</th>\n",
       "      <th>Blond</th>\n",
       "      <th>Brunette</th>\n",
       "      <th>Red</th>\n",
       "      <th>MarginalEye</th>\n",
       "    </tr>\n",
       "  </thead>\n",
       "  <tbody>\n",
       "    <tr>\n",
       "      <th>Brown</th>\n",
       "      <td>0.11</td>\n",
       "      <td>0.01</td>\n",
       "      <td>0.21</td>\n",
       "      <td>0.04</td>\n",
       "      <td>0.37</td>\n",
       "    </tr>\n",
       "    <tr>\n",
       "      <th>Blue</th>\n",
       "      <td>0.03</td>\n",
       "      <td>0.16</td>\n",
       "      <td>0.14</td>\n",
       "      <td>0.03</td>\n",
       "      <td>0.36</td>\n",
       "    </tr>\n",
       "    <tr>\n",
       "      <th>Hazel</th>\n",
       "      <td>0.03</td>\n",
       "      <td>0.02</td>\n",
       "      <td>0.09</td>\n",
       "      <td>0.02</td>\n",
       "      <td>0.16</td>\n",
       "    </tr>\n",
       "    <tr>\n",
       "      <th>Green</th>\n",
       "      <td>0.01</td>\n",
       "      <td>0.03</td>\n",
       "      <td>0.05</td>\n",
       "      <td>0.02</td>\n",
       "      <td>0.11</td>\n",
       "    </tr>\n",
       "    <tr>\n",
       "      <th>MarginalHair</th>\n",
       "      <td>0.18</td>\n",
       "      <td>0.22</td>\n",
       "      <td>0.49</td>\n",
       "      <td>0.11</td>\n",
       "      <td>1.00</td>\n",
       "    </tr>\n",
       "  </tbody>\n",
       "</table>\n",
       "</div>"
      ],
      "text/plain": [
       "              Black  Blond  Brunette   Red  MarginalEye\n",
       "Brown          0.11   0.01      0.21  0.04         0.37\n",
       "Blue           0.03   0.16      0.14  0.03         0.36\n",
       "Hazel          0.03   0.02      0.09  0.02         0.16\n",
       "Green          0.01   0.03      0.05  0.02         0.11\n",
       "MarginalHair   0.18   0.22      0.49  0.11         1.00"
      ]
     },
     "execution_count": 10,
     "metadata": {},
     "output_type": "execute_result"
    }
   ],
   "source": [
    "eyeHair = pd.concat([eyeHair, pd.DataFrame({'MarginalHair':eyeHair.sum(axis = 0)}).T])\n",
    "eyeHair"
   ]
  },
  {
   "cell_type": "markdown",
   "metadata": {},
   "source": [
    "In many cases we really only want to know the maximum of the marginal probability. For example, we can find the most probable eye color:"
   ]
  },
  {
   "cell_type": "code",
   "execution_count": 11,
   "metadata": {},
   "outputs": [
    {
     "data": {
      "text/plain": [
       "'Brown'"
      ]
     },
     "execution_count": 11,
     "metadata": {},
     "output_type": "execute_result"
    }
   ],
   "source": [
    "eyeHair.iloc[:3,4].idxmax()"
   ]
  },
  {
   "cell_type": "markdown",
   "metadata": {},
   "source": [
    "While brown eyes are  the most probable, blue eyes are nearly as probable. \n",
    "\n",
    "Likewise, we can find the most probable hair color.  "
   ]
  },
  {
   "cell_type": "code",
   "execution_count": 12,
   "metadata": {},
   "outputs": [
    {
     "data": {
      "text/plain": [
       "'Brunette'"
      ]
     },
     "execution_count": 12,
     "metadata": {},
     "output_type": "execute_result"
    }
   ],
   "source": [
    "eyeHair.iloc[4,:3].idxmax()"
   ]
  },
  {
   "cell_type": "markdown",
   "metadata": {},
   "source": [
    "## More Bayes' theorem\n",
    "\n",
    "We have already compute the probability of eye color given hair color in a previous section. Let's check that we get the same result using Bayes' theorem. This is another form of inference. \n",
    "\n",
    "By the chain rule of probabilities the joint distribution,  $P(hair,eye)$ , can be factored as:\n",
    "\n",
    "$$P(hair,eye) = P(hair|eye)\\ P(eye)\\\\\n",
    "Or,\n",
    "P(hair|eye) = \\frac{P(hair,eye)}{P(eye}$$\n",
    "\n",
    "We can write:\n",
    "\n",
    "$$P(eye | hair) = \\frac{P(hair,eye)\\ P(eye)}{P(hair) \\ P(eye} = \\frac{P(hair,eye)}{P(hair)}$$\n",
    "\n",
    "The quantities $P(eye)$ and $P(hair)$ are just the marginal distributions. So, we can easily compute the conditional distribution of eye color give black hair:"
   ]
  },
  {
   "cell_type": "code",
   "execution_count": 45,
   "metadata": {},
   "outputs": [
    {
     "data": {
      "text/plain": [
       "Brown    0.611111\n",
       "Blue     0.166667\n",
       "Hazel    0.166667\n",
       "Green    0.055556\n",
       "Name: Black, dtype: float64"
      ]
     },
     "execution_count": 45,
     "metadata": {},
     "output_type": "execute_result"
    }
   ],
   "source": [
    "PEyeGivenHair_black = eyeHair.loc[:,'Black'][:4]/eyeHair.loc['MarginalHair','Black']\n",
    "PEyeGivenHair_black"
   ]
  },
  {
   "cell_type": "markdown",
   "metadata": {},
   "source": [
    "Finally, we can check that the result is a proper distribution by verifying the sum adds to 1.0. "
   ]
  },
  {
   "cell_type": "code",
   "execution_count": 48,
   "metadata": {},
   "outputs": [
    {
     "name": "stdout",
     "output_type": "stream",
     "text": [
      "Sum of probabilites of eye given black hair = 1.00\n"
     ]
    }
   ],
   "source": [
    "print('Sum of probabilites of eye given black hair = %4.2f' % sum(PEyeGivenHair_black)) "
   ]
  },
  {
   "cell_type": "markdown",
   "metadata": {},
   "source": [
    "## Independence\n"
   ]
  },
  {
   "cell_type": "code",
   "execution_count": null,
   "metadata": {},
   "outputs": [],
   "source": []
  }
 ],
 "metadata": {
  "kernelspec": {
   "display_name": "Python 3",
   "language": "python",
   "name": "python3"
  },
  "language_info": {
   "codemirror_mode": {
    "name": "ipython",
    "version": 3
   },
   "file_extension": ".py",
   "mimetype": "text/x-python",
   "name": "python",
   "nbconvert_exporter": "python",
   "pygments_lexer": "ipython3",
   "version": "3.6.4"
  }
 },
 "nbformat": 4,
 "nbformat_minor": 2
}
